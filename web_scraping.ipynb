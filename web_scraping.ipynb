{
 "cells": [
  {
   "cell_type": "markdown",
   "id": "0abd05b4",
   "metadata": {},
   "source": [
    "## Import Relevant Modules"
   ]
  },
  {
   "cell_type": "code",
   "execution_count": 1,
   "id": "46213ff2",
   "metadata": {},
   "outputs": [],
   "source": [
    "import pandas as pd\n",
    "import numpy as np\n",
    "import os\n",
    "import json\n",
    "import re\n",
    "import time\n",
    "import requests\n",
    "from bs4 import BeautifulSoup\n",
    "from tqdm.notebook import tqdm\n",
    "from selenium import webdriver\n",
    "from selenium.webdriver.common.keys import Keys\n",
    "from selenium.webdriver.chrome.options import Options\n",
    "\n",
    "# Creating PrettyPrinter Instance\n",
    "import pprint\n",
    "pp = pprint.PrettyPrinter(indent=2)"
   ]
  },
  {
   "cell_type": "markdown",
   "id": "7b86a0b5",
   "metadata": {},
   "source": [
    "## Frameworks \n",
    "\n",
    "For web-scraping, we will mainly focus on using ```selenium``` and ```beautifulsoup4``` to scrape the start up information from the [website](https://www.cityu.edu.hk/hktech300/start-ups/all-start-ups)\n",
    "\n",
    "Then, we will save the information into a single ```Comma-seperated values (CSV) file```"
   ]
  },
  {
   "cell_type": "markdown",
   "id": "3e36d080",
   "metadata": {},
   "source": [
    "## Setting up Selenium Chrome Webdriver"
   ]
  },
  {
   "cell_type": "code",
   "execution_count": 2,
   "id": "38254372",
   "metadata": {},
   "outputs": [],
   "source": [
    "# Setting up the Chrome WebDriver\n",
    "# options = Options()\n",
    "# options.add_argument(\"--headless\")\n",
    "driver = webdriver.Chrome()\n",
    "\n",
    "# Setting up the URL and headers\n",
    "BASE_PAGE_URL = \"https://www.cityu.edu.hk/hktech300/start-ups/all-start-ups?page=\"\n",
    "MAX_PAGES = 40\n",
    "BASE_DOMAIN = \"https://www.cityu.edu.hk\"\n",
    "\n",
    "driver.quit()"
   ]
  },
  {
   "cell_type": "markdown",
   "id": "aef5f827",
   "metadata": {},
   "source": [
    "## Scraping data for a Single Page\n",
    "\n",
    "The following section contains the initial scraping of each individual start up page before using the logic to scrape the full start up pages"
   ]
  },
  {
   "cell_type": "code",
   "execution_count": null,
   "id": "037c3c49",
   "metadata": {},
   "outputs": [],
   "source": [
    "driver = webdriver.Chrome()\n",
    "driver.get(BASE_PAGE_URL + \"0\")\n",
    "\n",
    "# Wait for the page to load\n",
    "time.sleep(5)\n",
    "\n",
    "# Get the page source\n",
    "page_source = driver.page_source\n",
    "soup = BeautifulSoup(page_source, 'html.parser')\n",
    "\n",
    "# Find the total number of pages\n",
    "content_container = soup.find('div', class_='item-list')\n",
    "\n",
    "driver.quit()"
   ]
  },
  {
   "cell_type": "code",
   "execution_count": 24,
   "id": "5ea3ec25",
   "metadata": {},
   "outputs": [
    {
     "data": {
      "application/vnd.jupyter.widget-view+json": {
       "model_id": "b3737c6107044feead0a8d5ec665673e",
       "version_major": 2,
       "version_minor": 0
      },
      "text/plain": [
       "  0%|          | 0/18 [00:00<?, ?it/s]"
      ]
     },
     "metadata": {},
     "output_type": "display_data"
    },
    {
     "name": "stdout",
     "output_type": "stream",
     "text": [
      "Name: 3D printing low-carbon ecological concrete, Profile URL: https://www.cityu.edu.hk/hktech300/start-ups/seed-fund-teams/3d-printing-low-carbon-ecological-concrete\n",
      "Name: 5th Immersiv, Profile URL: https://www.cityu.edu.hk/hktech300/start-ups/seed-fund-teams/5th-immersiv\n",
      "Name: 6J Biotechnology (Hong Kong) Limited, Profile URL: https://www.cityu.edu.hk/hktech300/start-ups/angel-fund-teams/6j-biotechnology\n",
      "Name: A-TCMS (Autonomous Tire Condition Monitoring System), Profile URL: https://www.cityu.edu.hk/hktech300/start-ups/seed-fund-teams/a-tcms\n",
      "Name: A.I. Ambassador (Virtual Receptionist) kiosk solution, Profile URL: https://www.cityu.edu.hk/hktech300/start-ups/seed-fund-teams/ai-ambassador\n",
      "Name: A3-ml Ltd, Profile URL: https://www.cityu.edu.hk/hktech300/start-ups/seed-fund-teams/a3-ml\n",
      "Name: ABCDYi, Profile URL: https://www.cityu.edu.hk/hktech300/start-ups/seed-fund-teams/abcdyi\n",
      "Name: Accessible Vision, Profile URL: https://www.cityu.edu.hk/hktech300/start-ups/seed-fund-teams/accessible-vision\n",
      "Name: Accucision, Profile URL: https://www.cityu.edu.hk/hktech300/start-ups/seed-fund-teams/accucision\n",
      "Name: Aeroponics King, Profile URL: https://www.cityu.edu.hk/hktech300/start-ups/seed-fund-teams/aeroponics-king\n",
      "Name: AESIR Institute Limited, Profile URL: https://www.cityu.edu.hk/hktech300/start-ups/angel-fund-teams/aesir\n",
      "Name: Aestrio, Profile URL: https://www.cityu.edu.hk/hktech300/start-ups/seed-fund-teams/aestrio\n",
      "Name: AFJ – TutorGPT, Profile URL: https://www.cityu.edu.hk/hktech300/start-ups/seed-fund-teams/afj-tutorgpt\n",
      "Name: Aflame E-SOC, Profile URL: https://www.cityu.edu.hk/hktech300/start-ups/seed-fund-teams/aflame-e-soc\n",
      "Name: AI Doodle, Profile URL: https://www.cityu.edu.hk/hktech300/start-ups/seed-fund-teams/ai-doodle\n",
      "Name: AI Guided Limited, Profile URL: https://www.cityu.edu.hk/hktech300/start-ups/seed-fund-teams/ai-guided-limited\n",
      "Name: AI Mnemonic, Profile URL: https://www.cityu.edu.hk/hktech300/start-ups/seed-fund-teams/ai-mnemonic\n",
      "Name: AI Motion Logistics Limited, Profile URL: https://www.cityu.edu.hk/hktech300/start-ups/angel-fund-teams/ai-motion-logistics-limited\n"
     ]
    }
   ],
   "source": [
    "start_ups_list = []\n",
    "\n",
    "# Select all <li> elements under the target <ul>\n",
    "li_elements = soup.select('ul.list-unstyled.row > li')\n",
    "\n",
    "# Loop through each startup block\n",
    "for li in tqdm(li_elements, leave=False):\n",
    "    card = li.select_one(\"div.card.fund.team\")\n",
    "    if not card:\n",
    "        continue\n",
    "\n",
    "    # Find startup name and profile link\n",
    "    a_tags = card.find_all(\"a\")\n",
    "    name, profile_url = None, None\n",
    "    for a in a_tags:\n",
    "        if a.text.strip():\n",
    "            name = a.text.strip()\n",
    "            relative_url = a.get(\"href\")\n",
    "            profile_url = BASE_DOMAIN + relative_url\n",
    "            print(f\"Name: {name}, Profile URL: {profile_url}\")\n",
    "            start_ups_list.append({\n",
    "                \"name\": name,\n",
    "                \"profile_url\": profile_url\n",
    "            })\n",
    "            break  # Found the name-containing <a>\n",
    "\n",
    "    if not name or not profile_url:\n",
    "        continue  # Skip incomplete entries"
   ]
  },
  {
   "cell_type": "code",
   "execution_count": null,
   "id": "18239af0",
   "metadata": {},
   "outputs": [],
   "source": [
    "driver.get('https://www.cityu.edu.hk/hktech300/start-ups/angel-fund-teams/ai-motion-logistics-limited')\n",
    "time.sleep(2)\n",
    "profile_soup = BeautifulSoup(driver.page_source, \"html.parser\")\n",
    "driver.quit()"
   ]
  },
  {
   "cell_type": "code",
   "execution_count": 39,
   "id": "688a229f",
   "metadata": {},
   "outputs": [
    {
     "name": "stdout",
     "output_type": "stream",
     "text": [
      "Website: None\n",
      "Email: info_aiml@yeah.net\n"
     ]
    }
   ],
   "source": [
    "def extract_profile_details(profile_soup):\n",
    "    website, email = None, None\n",
    "\n",
    "    # Try both possible block plugin ID prefixes\n",
    "    block_prefixes = [\n",
    "        \"field_block:node:seed_fund_team\",\n",
    "        \"field_block:node:angel_fund\"\n",
    "    ]\n",
    "\n",
    "    for prefix in block_prefixes:\n",
    "        # Website container\n",
    "        website_div = profile_soup.find('div', attrs={\n",
    "            'data-block-plugin-id': f\"{prefix}:field_client\"\n",
    "        })\n",
    "        if website_div:\n",
    "            a_tag = website_div.find('a', href=True)\n",
    "            if a_tag:\n",
    "                website = a_tag['href'].strip()\n",
    "                break  # Stop once found\n",
    "\n",
    "    for prefix in block_prefixes:\n",
    "        # Email container\n",
    "        email_div = profile_soup.find('div', attrs={\n",
    "            'data-block-plugin-id': f\"{prefix}:field_team_members_email\"\n",
    "        })\n",
    "        if email_div:\n",
    "            a_tag = email_div.find('a', href=True)\n",
    "            if a_tag:\n",
    "                email = a_tag.text.strip()\n",
    "                break  # Stop once found\n",
    "\n",
    "    return website, email\n",
    "\n",
    "\n",
    "# Extracting details\n",
    "website, email = extract_profile_details(profile_soup)\n",
    "print(f\"Website: {website}\")\n",
    "print(f\"Email: {email}\")"
   ]
  },
  {
   "cell_type": "code",
   "execution_count": 34,
   "id": "f57d0d8d",
   "metadata": {},
   "outputs": [
    {
     "data": {
      "application/vnd.jupyter.widget-view+json": {
       "model_id": "4f1cd5b763694d44aacd831c3504acac",
       "version_major": 2,
       "version_minor": 0
      },
      "text/plain": [
       "Scraping profiles:   0%|          | 0/18 [00:00<?, ?it/s]"
      ]
     },
     "metadata": {},
     "output_type": "display_data"
    }
   ],
   "source": [
    "all_data = []\n",
    "\n",
    "# Entire code to extract all profiles in one page\n",
    "li_elements = soup.select(\"ul.list-unstyled.row > li\")\n",
    "for li in tqdm(li_elements, leave=False, desc=f\"Scraping profiles\"):\n",
    "    card = li.select_one(\"div.card.fund.team\")\n",
    "    if not card:\n",
    "        continue\n",
    "\n",
    "    # Find the correct <a> with company name and link\n",
    "    a_tags = card.find_all(\"a\")\n",
    "    name, profile_url = None, None\n",
    "    for a in a_tags:\n",
    "        if a.text.strip():\n",
    "            name = a.text.strip()\n",
    "            profile_url = BASE_DOMAIN + a.get(\"href\")\n",
    "            break\n",
    "\n",
    "    if not name or not profile_url:\n",
    "        continue\n",
    "\n",
    "    # Load the company profile page\n",
    "    driver.get(profile_url)\n",
    "    time.sleep(2)\n",
    "    profile_soup = BeautifulSoup(driver.page_source, \"html.parser\")\n",
    "\n",
    "    # Extract website and email from profile\n",
    "    website, email = extract_profile_details(profile_soup)\n",
    "\n",
    "    all_data.append({\n",
    "        \"Company Name\": name,\n",
    "        \"CityU URL\": profile_url,\n",
    "        \"Company Website\": website,\n",
    "        \"Email Address\": email\n",
    "    })"
   ]
  },
  {
   "cell_type": "code",
   "execution_count": 35,
   "id": "0c5a1496",
   "metadata": {},
   "outputs": [
    {
     "data": {
      "text/html": [
       "<div>\n",
       "<style scoped>\n",
       "    .dataframe tbody tr th:only-of-type {\n",
       "        vertical-align: middle;\n",
       "    }\n",
       "\n",
       "    .dataframe tbody tr th {\n",
       "        vertical-align: top;\n",
       "    }\n",
       "\n",
       "    .dataframe thead th {\n",
       "        text-align: right;\n",
       "    }\n",
       "</style>\n",
       "<table border=\"1\" class=\"dataframe\">\n",
       "  <thead>\n",
       "    <tr style=\"text-align: right;\">\n",
       "      <th></th>\n",
       "      <th>Company Name</th>\n",
       "      <th>CityU URL</th>\n",
       "      <th>Company Website</th>\n",
       "      <th>Email Address</th>\n",
       "    </tr>\n",
       "  </thead>\n",
       "  <tbody>\n",
       "    <tr>\n",
       "      <th>0</th>\n",
       "      <td>3D printing low-carbon ecological concrete</td>\n",
       "      <td>https://www.cityu.edu.hk/hktech300/start-ups/s...</td>\n",
       "      <td></td>\n",
       "      <td></td>\n",
       "    </tr>\n",
       "    <tr>\n",
       "      <th>1</th>\n",
       "      <td>5th Immersiv</td>\n",
       "      <td>https://www.cityu.edu.hk/hktech300/start-ups/s...</td>\n",
       "      <td>https://brideunionhk.com/</td>\n",
       "      <td>martin@bride-union.com</td>\n",
       "    </tr>\n",
       "    <tr>\n",
       "      <th>2</th>\n",
       "      <td>6J Biotechnology (Hong Kong) Limited</td>\n",
       "      <td>https://www.cityu.edu.hk/hktech300/start-ups/a...</td>\n",
       "      <td></td>\n",
       "      <td></td>\n",
       "    </tr>\n",
       "    <tr>\n",
       "      <th>3</th>\n",
       "      <td>A-TCMS (Autonomous Tire Condition Monitoring S...</td>\n",
       "      <td>https://www.cityu.edu.hk/hktech300/start-ups/s...</td>\n",
       "      <td></td>\n",
       "      <td></td>\n",
       "    </tr>\n",
       "    <tr>\n",
       "      <th>4</th>\n",
       "      <td>A.I. Ambassador (Virtual Receptionist) kiosk s...</td>\n",
       "      <td>https://www.cityu.edu.hk/hktech300/start-ups/s...</td>\n",
       "      <td>https://www.innocorn.com/</td>\n",
       "      <td>info@innocorn.com</td>\n",
       "    </tr>\n",
       "    <tr>\n",
       "      <th>5</th>\n",
       "      <td>A3-ml Ltd</td>\n",
       "      <td>https://www.cityu.edu.hk/hktech300/start-ups/s...</td>\n",
       "      <td></td>\n",
       "      <td>director@a3-ml.com</td>\n",
       "    </tr>\n",
       "    <tr>\n",
       "      <th>6</th>\n",
       "      <td>ABCDYi</td>\n",
       "      <td>https://www.cityu.edu.hk/hktech300/start-ups/s...</td>\n",
       "      <td></td>\n",
       "      <td>hello@abcdyi.net</td>\n",
       "    </tr>\n",
       "    <tr>\n",
       "      <th>7</th>\n",
       "      <td>Accessible Vision</td>\n",
       "      <td>https://www.cityu.edu.hk/hktech300/start-ups/s...</td>\n",
       "      <td></td>\n",
       "      <td></td>\n",
       "    </tr>\n",
       "    <tr>\n",
       "      <th>8</th>\n",
       "      <td>Accucision</td>\n",
       "      <td>https://www.cityu.edu.hk/hktech300/start-ups/s...</td>\n",
       "      <td></td>\n",
       "      <td>accucisionhk@gmail.com</td>\n",
       "    </tr>\n",
       "    <tr>\n",
       "      <th>9</th>\n",
       "      <td>Aeroponics King</td>\n",
       "      <td>https://www.cityu.edu.hk/hktech300/start-ups/s...</td>\n",
       "      <td></td>\n",
       "      <td>aeroponicsking@gmail.com</td>\n",
       "    </tr>\n",
       "    <tr>\n",
       "      <th>10</th>\n",
       "      <td>AESIR Institute Limited</td>\n",
       "      <td>https://www.cityu.edu.hk/hktech300/start-ups/a...</td>\n",
       "      <td></td>\n",
       "      <td></td>\n",
       "    </tr>\n",
       "    <tr>\n",
       "      <th>11</th>\n",
       "      <td>Aestrio</td>\n",
       "      <td>https://www.cityu.edu.hk/hktech300/start-ups/s...</td>\n",
       "      <td>https://www.aestrio.com</td>\n",
       "      <td></td>\n",
       "    </tr>\n",
       "    <tr>\n",
       "      <th>12</th>\n",
       "      <td>AFJ – TutorGPT</td>\n",
       "      <td>https://www.cityu.edu.hk/hktech300/start-ups/s...</td>\n",
       "      <td></td>\n",
       "      <td></td>\n",
       "    </tr>\n",
       "    <tr>\n",
       "      <th>13</th>\n",
       "      <td>Aflame E-SOC</td>\n",
       "      <td>https://www.cityu.edu.hk/hktech300/start-ups/s...</td>\n",
       "      <td></td>\n",
       "      <td>aflamehk@gmail.com</td>\n",
       "    </tr>\n",
       "    <tr>\n",
       "      <th>14</th>\n",
       "      <td>AI Doodle</td>\n",
       "      <td>https://www.cityu.edu.hk/hktech300/start-ups/s...</td>\n",
       "      <td></td>\n",
       "      <td></td>\n",
       "    </tr>\n",
       "    <tr>\n",
       "      <th>15</th>\n",
       "      <td>AI Guided Limited</td>\n",
       "      <td>https://www.cityu.edu.hk/hktech300/start-ups/s...</td>\n",
       "      <td></td>\n",
       "      <td></td>\n",
       "    </tr>\n",
       "    <tr>\n",
       "      <th>16</th>\n",
       "      <td>AI Mnemonic</td>\n",
       "      <td>https://www.cityu.edu.hk/hktech300/start-ups/s...</td>\n",
       "      <td>https://www.aimnemonic.com/</td>\n",
       "      <td>admin@aimnemonic.com</td>\n",
       "    </tr>\n",
       "    <tr>\n",
       "      <th>17</th>\n",
       "      <td>AI Motion Logistics Limited</td>\n",
       "      <td>https://www.cityu.edu.hk/hktech300/start-ups/a...</td>\n",
       "      <td></td>\n",
       "      <td></td>\n",
       "    </tr>\n",
       "  </tbody>\n",
       "</table>\n",
       "</div>"
      ],
      "text/plain": [
       "                                         Company Name  \\\n",
       "0          3D printing low-carbon ecological concrete   \n",
       "1                                        5th Immersiv   \n",
       "2                6J Biotechnology (Hong Kong) Limited   \n",
       "3   A-TCMS (Autonomous Tire Condition Monitoring S...   \n",
       "4   A.I. Ambassador (Virtual Receptionist) kiosk s...   \n",
       "5                                           A3-ml Ltd   \n",
       "6                                              ABCDYi   \n",
       "7                                   Accessible Vision   \n",
       "8                                          Accucision   \n",
       "9                                     Aeroponics King   \n",
       "10                            AESIR Institute Limited   \n",
       "11                                            Aestrio   \n",
       "12                                     AFJ – TutorGPT   \n",
       "13                                       Aflame E-SOC   \n",
       "14                                          AI Doodle   \n",
       "15                                  AI Guided Limited   \n",
       "16                                        AI Mnemonic   \n",
       "17                        AI Motion Logistics Limited   \n",
       "\n",
       "                                            CityU URL  \\\n",
       "0   https://www.cityu.edu.hk/hktech300/start-ups/s...   \n",
       "1   https://www.cityu.edu.hk/hktech300/start-ups/s...   \n",
       "2   https://www.cityu.edu.hk/hktech300/start-ups/a...   \n",
       "3   https://www.cityu.edu.hk/hktech300/start-ups/s...   \n",
       "4   https://www.cityu.edu.hk/hktech300/start-ups/s...   \n",
       "5   https://www.cityu.edu.hk/hktech300/start-ups/s...   \n",
       "6   https://www.cityu.edu.hk/hktech300/start-ups/s...   \n",
       "7   https://www.cityu.edu.hk/hktech300/start-ups/s...   \n",
       "8   https://www.cityu.edu.hk/hktech300/start-ups/s...   \n",
       "9   https://www.cityu.edu.hk/hktech300/start-ups/s...   \n",
       "10  https://www.cityu.edu.hk/hktech300/start-ups/a...   \n",
       "11  https://www.cityu.edu.hk/hktech300/start-ups/s...   \n",
       "12  https://www.cityu.edu.hk/hktech300/start-ups/s...   \n",
       "13  https://www.cityu.edu.hk/hktech300/start-ups/s...   \n",
       "14  https://www.cityu.edu.hk/hktech300/start-ups/s...   \n",
       "15  https://www.cityu.edu.hk/hktech300/start-ups/s...   \n",
       "16  https://www.cityu.edu.hk/hktech300/start-ups/s...   \n",
       "17  https://www.cityu.edu.hk/hktech300/start-ups/a...   \n",
       "\n",
       "                Company Website             Email Address  \n",
       "0                                                          \n",
       "1     https://brideunionhk.com/    martin@bride-union.com  \n",
       "2                                                          \n",
       "3                                                          \n",
       "4     https://www.innocorn.com/         info@innocorn.com  \n",
       "5                                      director@a3-ml.com  \n",
       "6                                        hello@abcdyi.net  \n",
       "7                                                          \n",
       "8                                  accucisionhk@gmail.com  \n",
       "9                                aeroponicsking@gmail.com  \n",
       "10                                                         \n",
       "11      https://www.aestrio.com                            \n",
       "12                                                         \n",
       "13                                     aflamehk@gmail.com  \n",
       "14                                                         \n",
       "15                                                         \n",
       "16  https://www.aimnemonic.com/      admin@aimnemonic.com  \n",
       "17                                                         "
      ]
     },
     "execution_count": 35,
     "metadata": {},
     "output_type": "execute_result"
    }
   ],
   "source": [
    "df = pd.DataFrame(all_data)\n",
    "df"
   ]
  },
  {
   "cell_type": "markdown",
   "id": "67a4b12d",
   "metadata": {},
   "source": [
    "## Scraping all information"
   ]
  },
  {
   "cell_type": "markdown",
   "id": "04035180",
   "metadata": {},
   "source": [
    "Using the logic dervied from extracting one single page, we will now attempt to scrape all the start up information sequentially"
   ]
  },
  {
   "cell_type": "markdown",
   "id": "34fd42ea",
   "metadata": {},
   "source": [
    "### Helper Function to extract start up informatioon"
   ]
  },
  {
   "cell_type": "code",
   "execution_count": null,
   "id": "7622e064",
   "metadata": {},
   "outputs": [],
   "source": [
    "def extract_profile_details(profile_soup):\n",
    "    \"\"\"\n",
    "    Extracts the company website and email address from a startup's profile page.\n",
    "\n",
    "    Args:\n",
    "        profile_soup (BeautifulSoup): The BeautifulSoup-parsed HTML content of a startup's profile page.\n",
    "\n",
    "    Returns:\n",
    "        tuple: A tuple containing two strings:\n",
    "            - website (str): The company's external website URL (if available).\n",
    "            - email (str): The team member's email address (if available).\n",
    "    \"\"\"\n",
    "    website, email = None, None\n",
    "\n",
    "    # Try both possible block plugin ID prefixes\n",
    "    block_prefixes = [\n",
    "        \"field_block:node:seed_fund_team\",\n",
    "        \"field_block:node:angel_fund\"\n",
    "    ]\n",
    "\n",
    "    for prefix in block_prefixes:\n",
    "        # Website container\n",
    "        website_div = profile_soup.find('div', attrs={\n",
    "            'data-block-plugin-id': f\"{prefix}:field_client\"\n",
    "        })\n",
    "        if website_div:\n",
    "            a_tag = website_div.find('a', href=True)\n",
    "            if a_tag:\n",
    "                website = a_tag['href'].strip()\n",
    "                break  # Stop once found\n",
    "\n",
    "    for prefix in block_prefixes:\n",
    "        # Email container\n",
    "        email_div = profile_soup.find('div', attrs={\n",
    "            'data-block-plugin-id': f\"{prefix}:field_team_members_email\"\n",
    "        })\n",
    "        if email_div:\n",
    "            a_tag = email_div.find('a', href=True)\n",
    "            if a_tag:\n",
    "                email = a_tag.text.strip()\n",
    "                break  # Stop once found\n",
    "\n",
    "    # If no email or website found, return \"No Info Found\" else return the found values\n",
    "    email = email or \"No Info Found\"\n",
    "    website = website or \"No Info Found\"\n",
    "\n",
    "    return website, email"
   ]
  },
  {
   "cell_type": "code",
   "execution_count": 4,
   "id": "8c35a815",
   "metadata": {},
   "outputs": [],
   "source": [
    "# Initialise a list to store all data\n",
    "all_startup_data = []"
   ]
  },
  {
   "cell_type": "code",
   "execution_count": null,
   "id": "52980ff2",
   "metadata": {},
   "outputs": [
    {
     "data": {
      "application/vnd.jupyter.widget-view+json": {
       "model_id": "3667d219737c42c689ebfcc4f8c6dec4",
       "version_major": 2,
       "version_minor": 0
      },
      "text/plain": [
       "Scraping Startup Information from CityU:   0%|          | 0/40 [00:00<?, ?it/s]"
      ]
     },
     "metadata": {},
     "output_type": "display_data"
    },
    {
     "data": {
      "application/vnd.jupyter.widget-view+json": {
       "model_id": "b45c218ac4554880a426931a2b96a80f",
       "version_major": 2,
       "version_minor": 0
      },
      "text/plain": [
       "Page 1:   0%|          | 0/18 [00:00<?, ?it/s]"
      ]
     },
     "metadata": {},
     "output_type": "display_data"
    },
    {
     "data": {
      "application/vnd.jupyter.widget-view+json": {
       "model_id": "b0f43c87893943dd832b3aa08e4c5c26",
       "version_major": 2,
       "version_minor": 0
      },
      "text/plain": [
       "Page 2:   0%|          | 0/18 [00:00<?, ?it/s]"
      ]
     },
     "metadata": {},
     "output_type": "display_data"
    },
    {
     "data": {
      "application/vnd.jupyter.widget-view+json": {
       "model_id": "bce8fea8ee5f4d5197ad3fc8559e474c",
       "version_major": 2,
       "version_minor": 0
      },
      "text/plain": [
       "Page 3:   0%|          | 0/18 [00:00<?, ?it/s]"
      ]
     },
     "metadata": {},
     "output_type": "display_data"
    },
    {
     "data": {
      "application/vnd.jupyter.widget-view+json": {
       "model_id": "620d0a67bc94442581f41a2597783ffc",
       "version_major": 2,
       "version_minor": 0
      },
      "text/plain": [
       "Page 4:   0%|          | 0/18 [00:00<?, ?it/s]"
      ]
     },
     "metadata": {},
     "output_type": "display_data"
    },
    {
     "data": {
      "application/vnd.jupyter.widget-view+json": {
       "model_id": "fc1b05cf5ed8455297000759e7e85d41",
       "version_major": 2,
       "version_minor": 0
      },
      "text/plain": [
       "Page 5:   0%|          | 0/18 [00:00<?, ?it/s]"
      ]
     },
     "metadata": {},
     "output_type": "display_data"
    },
    {
     "data": {
      "application/vnd.jupyter.widget-view+json": {
       "model_id": "b41957f7f6694e43a76bae862fac81f4",
       "version_major": 2,
       "version_minor": 0
      },
      "text/plain": [
       "Page 6:   0%|          | 0/18 [00:00<?, ?it/s]"
      ]
     },
     "metadata": {},
     "output_type": "display_data"
    },
    {
     "data": {
      "application/vnd.jupyter.widget-view+json": {
       "model_id": "7c7a7bd14b88469687e4481f7aae6c6b",
       "version_major": 2,
       "version_minor": 0
      },
      "text/plain": [
       "Page 7:   0%|          | 0/18 [00:00<?, ?it/s]"
      ]
     },
     "metadata": {},
     "output_type": "display_data"
    },
    {
     "data": {
      "application/vnd.jupyter.widget-view+json": {
       "model_id": "d93eb24736d148768057d04c778bfd8f",
       "version_major": 2,
       "version_minor": 0
      },
      "text/plain": [
       "Page 8:   0%|          | 0/18 [00:00<?, ?it/s]"
      ]
     },
     "metadata": {},
     "output_type": "display_data"
    },
    {
     "data": {
      "application/vnd.jupyter.widget-view+json": {
       "model_id": "ac52cae385ed45bb9abfceb189befbf1",
       "version_major": 2,
       "version_minor": 0
      },
      "text/plain": [
       "Page 9:   0%|          | 0/18 [00:00<?, ?it/s]"
      ]
     },
     "metadata": {},
     "output_type": "display_data"
    },
    {
     "data": {
      "application/vnd.jupyter.widget-view+json": {
       "model_id": "a96e64f862a74f3a86c01b21e2ab4297",
       "version_major": 2,
       "version_minor": 0
      },
      "text/plain": [
       "Page 10:   0%|          | 0/18 [00:00<?, ?it/s]"
      ]
     },
     "metadata": {},
     "output_type": "display_data"
    },
    {
     "data": {
      "application/vnd.jupyter.widget-view+json": {
       "model_id": "949f4fe2df5348ca966c15fedb42e273",
       "version_major": 2,
       "version_minor": 0
      },
      "text/plain": [
       "Page 11:   0%|          | 0/18 [00:00<?, ?it/s]"
      ]
     },
     "metadata": {},
     "output_type": "display_data"
    },
    {
     "data": {
      "application/vnd.jupyter.widget-view+json": {
       "model_id": "56ea5e4cddd04735ae1b0f7473dc8f0a",
       "version_major": 2,
       "version_minor": 0
      },
      "text/plain": [
       "Page 12:   0%|          | 0/18 [00:00<?, ?it/s]"
      ]
     },
     "metadata": {},
     "output_type": "display_data"
    },
    {
     "data": {
      "application/vnd.jupyter.widget-view+json": {
       "model_id": "055184a1c7cb4e95ab1023455b30deb2",
       "version_major": 2,
       "version_minor": 0
      },
      "text/plain": [
       "Page 13:   0%|          | 0/18 [00:00<?, ?it/s]"
      ]
     },
     "metadata": {},
     "output_type": "display_data"
    },
    {
     "data": {
      "application/vnd.jupyter.widget-view+json": {
       "model_id": "e36d905e3b764393beaf34b2f574bdf8",
       "version_major": 2,
       "version_minor": 0
      },
      "text/plain": [
       "Page 14:   0%|          | 0/18 [00:00<?, ?it/s]"
      ]
     },
     "metadata": {},
     "output_type": "display_data"
    },
    {
     "data": {
      "application/vnd.jupyter.widget-view+json": {
       "model_id": "3e85460dd4fa4b50a0ff568241ca9e07",
       "version_major": 2,
       "version_minor": 0
      },
      "text/plain": [
       "Page 15:   0%|          | 0/18 [00:00<?, ?it/s]"
      ]
     },
     "metadata": {},
     "output_type": "display_data"
    },
    {
     "data": {
      "application/vnd.jupyter.widget-view+json": {
       "model_id": "3813efa955ed47ab89826743dc9bacbb",
       "version_major": 2,
       "version_minor": 0
      },
      "text/plain": [
       "Page 16:   0%|          | 0/18 [00:00<?, ?it/s]"
      ]
     },
     "metadata": {},
     "output_type": "display_data"
    },
    {
     "data": {
      "application/vnd.jupyter.widget-view+json": {
       "model_id": "ff4585a4fd06483f87b30ccbee6c8c0f",
       "version_major": 2,
       "version_minor": 0
      },
      "text/plain": [
       "Page 17:   0%|          | 0/18 [00:00<?, ?it/s]"
      ]
     },
     "metadata": {},
     "output_type": "display_data"
    },
    {
     "data": {
      "application/vnd.jupyter.widget-view+json": {
       "model_id": "aab8e1ac73464d269af6e42d2e695521",
       "version_major": 2,
       "version_minor": 0
      },
      "text/plain": [
       "Page 18:   0%|          | 0/18 [00:00<?, ?it/s]"
      ]
     },
     "metadata": {},
     "output_type": "display_data"
    },
    {
     "data": {
      "application/vnd.jupyter.widget-view+json": {
       "model_id": "48cec35e3d1f4118affa026725eaf9f9",
       "version_major": 2,
       "version_minor": 0
      },
      "text/plain": [
       "Page 19:   0%|          | 0/18 [00:00<?, ?it/s]"
      ]
     },
     "metadata": {},
     "output_type": "display_data"
    },
    {
     "data": {
      "application/vnd.jupyter.widget-view+json": {
       "model_id": "5b48623457f647b2b4713bad4c8becf2",
       "version_major": 2,
       "version_minor": 0
      },
      "text/plain": [
       "Page 20:   0%|          | 0/18 [00:00<?, ?it/s]"
      ]
     },
     "metadata": {},
     "output_type": "display_data"
    },
    {
     "data": {
      "application/vnd.jupyter.widget-view+json": {
       "model_id": "0db62b6eee5d4695bcf37e48ec46dfe8",
       "version_major": 2,
       "version_minor": 0
      },
      "text/plain": [
       "Page 21:   0%|          | 0/18 [00:00<?, ?it/s]"
      ]
     },
     "metadata": {},
     "output_type": "display_data"
    },
    {
     "data": {
      "application/vnd.jupyter.widget-view+json": {
       "model_id": "6a42655fc42a4e3ca4ea9bda6d85b53d",
       "version_major": 2,
       "version_minor": 0
      },
      "text/plain": [
       "Page 22:   0%|          | 0/18 [00:00<?, ?it/s]"
      ]
     },
     "metadata": {},
     "output_type": "display_data"
    },
    {
     "data": {
      "application/vnd.jupyter.widget-view+json": {
       "model_id": "315b48c89ad641b38edfde423542fb57",
       "version_major": 2,
       "version_minor": 0
      },
      "text/plain": [
       "Page 23:   0%|          | 0/18 [00:00<?, ?it/s]"
      ]
     },
     "metadata": {},
     "output_type": "display_data"
    },
    {
     "data": {
      "application/vnd.jupyter.widget-view+json": {
       "model_id": "ad141417fa8f4318a1c313701edd9ac9",
       "version_major": 2,
       "version_minor": 0
      },
      "text/plain": [
       "Page 24:   0%|          | 0/18 [00:00<?, ?it/s]"
      ]
     },
     "metadata": {},
     "output_type": "display_data"
    },
    {
     "data": {
      "application/vnd.jupyter.widget-view+json": {
       "model_id": "9c29f29f57bd41039b61e0c521eedf1b",
       "version_major": 2,
       "version_minor": 0
      },
      "text/plain": [
       "Page 25:   0%|          | 0/18 [00:00<?, ?it/s]"
      ]
     },
     "metadata": {},
     "output_type": "display_data"
    },
    {
     "data": {
      "application/vnd.jupyter.widget-view+json": {
       "model_id": "cf4b23742b614dacbb2e4872d6dd69eb",
       "version_major": 2,
       "version_minor": 0
      },
      "text/plain": [
       "Page 26:   0%|          | 0/18 [00:00<?, ?it/s]"
      ]
     },
     "metadata": {},
     "output_type": "display_data"
    },
    {
     "data": {
      "application/vnd.jupyter.widget-view+json": {
       "model_id": "bf1d16e50bca4f01b112124ffc6b63de",
       "version_major": 2,
       "version_minor": 0
      },
      "text/plain": [
       "Page 27:   0%|          | 0/18 [00:00<?, ?it/s]"
      ]
     },
     "metadata": {},
     "output_type": "display_data"
    },
    {
     "data": {
      "application/vnd.jupyter.widget-view+json": {
       "model_id": "34984c0570ff4165a3bce930e1edc624",
       "version_major": 2,
       "version_minor": 0
      },
      "text/plain": [
       "Page 28:   0%|          | 0/18 [00:00<?, ?it/s]"
      ]
     },
     "metadata": {},
     "output_type": "display_data"
    },
    {
     "data": {
      "application/vnd.jupyter.widget-view+json": {
       "model_id": "a5723b91d29341a89ae659aae640ca32",
       "version_major": 2,
       "version_minor": 0
      },
      "text/plain": [
       "Page 29:   0%|          | 0/18 [00:00<?, ?it/s]"
      ]
     },
     "metadata": {},
     "output_type": "display_data"
    },
    {
     "data": {
      "application/vnd.jupyter.widget-view+json": {
       "model_id": "a189fb15c7dd40978bf08564d59d63f5",
       "version_major": 2,
       "version_minor": 0
      },
      "text/plain": [
       "Page 30:   0%|          | 0/18 [00:00<?, ?it/s]"
      ]
     },
     "metadata": {},
     "output_type": "display_data"
    },
    {
     "data": {
      "application/vnd.jupyter.widget-view+json": {
       "model_id": "4c51c82a0e8c41d1aefda7e2cda0d2ae",
       "version_major": 2,
       "version_minor": 0
      },
      "text/plain": [
       "Page 31:   0%|          | 0/18 [00:00<?, ?it/s]"
      ]
     },
     "metadata": {},
     "output_type": "display_data"
    },
    {
     "data": {
      "application/vnd.jupyter.widget-view+json": {
       "model_id": "c070dd0d2b5a4daca50e66816cb54192",
       "version_major": 2,
       "version_minor": 0
      },
      "text/plain": [
       "Page 32:   0%|          | 0/18 [00:00<?, ?it/s]"
      ]
     },
     "metadata": {},
     "output_type": "display_data"
    },
    {
     "data": {
      "application/vnd.jupyter.widget-view+json": {
       "model_id": "f32b162c4baf4af2bdd0f40402f66080",
       "version_major": 2,
       "version_minor": 0
      },
      "text/plain": [
       "Page 33:   0%|          | 0/18 [00:00<?, ?it/s]"
      ]
     },
     "metadata": {},
     "output_type": "display_data"
    },
    {
     "data": {
      "application/vnd.jupyter.widget-view+json": {
       "model_id": "1d120f719a28420f945c3038d38be0ee",
       "version_major": 2,
       "version_minor": 0
      },
      "text/plain": [
       "Page 34:   0%|          | 0/18 [00:00<?, ?it/s]"
      ]
     },
     "metadata": {},
     "output_type": "display_data"
    },
    {
     "data": {
      "application/vnd.jupyter.widget-view+json": {
       "model_id": "d79a5bb1b0264c1b8f8143909a3def34",
       "version_major": 2,
       "version_minor": 0
      },
      "text/plain": [
       "Page 35:   0%|          | 0/18 [00:00<?, ?it/s]"
      ]
     },
     "metadata": {},
     "output_type": "display_data"
    },
    {
     "data": {
      "application/vnd.jupyter.widget-view+json": {
       "model_id": "efa8b2cab28e42679ddd8c9e2688f6d0",
       "version_major": 2,
       "version_minor": 0
      },
      "text/plain": [
       "Page 36:   0%|          | 0/18 [00:00<?, ?it/s]"
      ]
     },
     "metadata": {},
     "output_type": "display_data"
    },
    {
     "data": {
      "application/vnd.jupyter.widget-view+json": {
       "model_id": "02343dacea0948fba03a40a096f17818",
       "version_major": 2,
       "version_minor": 0
      },
      "text/plain": [
       "Page 37:   0%|          | 0/18 [00:00<?, ?it/s]"
      ]
     },
     "metadata": {},
     "output_type": "display_data"
    },
    {
     "data": {
      "application/vnd.jupyter.widget-view+json": {
       "model_id": "961b5adc84384d7dad2b003411c8e833",
       "version_major": 2,
       "version_minor": 0
      },
      "text/plain": [
       "Page 38:   0%|          | 0/18 [00:00<?, ?it/s]"
      ]
     },
     "metadata": {},
     "output_type": "display_data"
    },
    {
     "data": {
      "application/vnd.jupyter.widget-view+json": {
       "model_id": "b6212a03a64b45ed8283adba15e0dc44",
       "version_major": 2,
       "version_minor": 0
      },
      "text/plain": [
       "Page 39:   0%|          | 0/18 [00:00<?, ?it/s]"
      ]
     },
     "metadata": {},
     "output_type": "display_data"
    },
    {
     "data": {
      "application/vnd.jupyter.widget-view+json": {
       "model_id": "b88172b9564548f8b1d5ee3f187fdb1a",
       "version_major": 2,
       "version_minor": 0
      },
      "text/plain": [
       "Page 40:   0%|          | 0/18 [00:00<?, ?it/s]"
      ]
     },
     "metadata": {},
     "output_type": "display_data"
    }
   ],
   "source": [
    "# Initialise the WebDriver\n",
    "driver = webdriver.Chrome() \n",
    "\n",
    "# Loop through all pages\n",
    "for page in tqdm(range(MAX_PAGES), desc=\"Scraping Startup Information from CityU\"):\n",
    "    page_url = f\"{BASE_PAGE_URL}{page}\"\n",
    "    driver.get(page_url)\n",
    "    time.sleep(2)  # Wait for the page to load\n",
    "\n",
    "    soup = BeautifulSoup(driver.page_source, 'html.parser')\n",
    "    li_elements = soup.select(\"ul.list-unstyled.row > li\")\n",
    "\n",
    "    for li in tqdm(li_elements, desc=f\"Page {page + 1}\"):\n",
    "        card = li.select_one(\"div.card.fund.team\")\n",
    "        if not card:\n",
    "            continue\n",
    "\n",
    "        # Extract company name + profile URL\n",
    "        a_tags = card.find_all(\"a\")\n",
    "        name, profile_url = None, None\n",
    "        for a in a_tags:\n",
    "            if a.text.strip():\n",
    "                name = a.text.strip()\n",
    "                profile_url = BASE_DOMAIN + a.get(\"href\")\n",
    "                break\n",
    "\n",
    "        if not name or not profile_url:\n",
    "            continue\n",
    "\n",
    "        # Load the company profile page\n",
    "        driver.get(profile_url)\n",
    "        time.sleep(2)\n",
    "        profile_soup = BeautifulSoup(driver.page_source, \"html.parser\")\n",
    "\n",
    "        # Extract website and email from profile\n",
    "        website, email = extract_profile_details(profile_soup)\n",
    "\n",
    "        all_startup_data.append({\n",
    "            \"Company Name\": name,\n",
    "            \"CityU URL\": profile_url,\n",
    "            \"Company Website\": website,\n",
    "            \"Company Email Address\": email\n",
    "        })\n",
    "\n",
    "# Close the WebDriver\n",
    "driver.quit()"
   ]
  },
  {
   "cell_type": "markdown",
   "id": "75d0b4e8",
   "metadata": {},
   "source": [
    "## Saving the information into a CSV file"
   ]
  },
  {
   "cell_type": "code",
   "execution_count": null,
   "id": "8b9baf11",
   "metadata": {},
   "outputs": [
    {
     "data": {
      "text/html": [
       "<div>\n",
       "<style scoped>\n",
       "    .dataframe tbody tr th:only-of-type {\n",
       "        vertical-align: middle;\n",
       "    }\n",
       "\n",
       "    .dataframe tbody tr th {\n",
       "        vertical-align: top;\n",
       "    }\n",
       "\n",
       "    .dataframe thead th {\n",
       "        text-align: right;\n",
       "    }\n",
       "</style>\n",
       "<table border=\"1\" class=\"dataframe\">\n",
       "  <thead>\n",
       "    <tr style=\"text-align: right;\">\n",
       "      <th></th>\n",
       "      <th>Company Name</th>\n",
       "      <th>CityU URL</th>\n",
       "      <th>Company Website</th>\n",
       "      <th>Email</th>\n",
       "    </tr>\n",
       "  </thead>\n",
       "  <tbody>\n",
       "    <tr>\n",
       "      <th>0</th>\n",
       "      <td>3D printing low-carbon ecological concrete</td>\n",
       "      <td>https://www.cityu.edu.hk/hktech300/start-ups/s...</td>\n",
       "      <td>No Info Found</td>\n",
       "      <td>No Info Found</td>\n",
       "    </tr>\n",
       "    <tr>\n",
       "      <th>1</th>\n",
       "      <td>5th Immersiv</td>\n",
       "      <td>https://www.cityu.edu.hk/hktech300/start-ups/s...</td>\n",
       "      <td>https://brideunionhk.com/</td>\n",
       "      <td>martin@bride-union.com</td>\n",
       "    </tr>\n",
       "    <tr>\n",
       "      <th>2</th>\n",
       "      <td>3D printing low-carbon ecological concrete</td>\n",
       "      <td>https://www.cityu.edu.hk/hktech300/start-ups/s...</td>\n",
       "      <td>No Info Found</td>\n",
       "      <td>No Info Found</td>\n",
       "    </tr>\n",
       "    <tr>\n",
       "      <th>3</th>\n",
       "      <td>5th Immersiv</td>\n",
       "      <td>https://www.cityu.edu.hk/hktech300/start-ups/s...</td>\n",
       "      <td>https://brideunionhk.com/</td>\n",
       "      <td>martin@bride-union.com</td>\n",
       "    </tr>\n",
       "    <tr>\n",
       "      <th>4</th>\n",
       "      <td>6J Biotechnology (Hong Kong) Limited</td>\n",
       "      <td>https://www.cityu.edu.hk/hktech300/start-ups/a...</td>\n",
       "      <td>No Info Found</td>\n",
       "      <td>qzhang@6jbiotech.com</td>\n",
       "    </tr>\n",
       "  </tbody>\n",
       "</table>\n",
       "</div>"
      ],
      "text/plain": [
       "                                 Company Name  \\\n",
       "0  3D printing low-carbon ecological concrete   \n",
       "1                                5th Immersiv   \n",
       "2  3D printing low-carbon ecological concrete   \n",
       "3                                5th Immersiv   \n",
       "4        6J Biotechnology (Hong Kong) Limited   \n",
       "\n",
       "                                           CityU URL  \\\n",
       "0  https://www.cityu.edu.hk/hktech300/start-ups/s...   \n",
       "1  https://www.cityu.edu.hk/hktech300/start-ups/s...   \n",
       "2  https://www.cityu.edu.hk/hktech300/start-ups/s...   \n",
       "3  https://www.cityu.edu.hk/hktech300/start-ups/s...   \n",
       "4  https://www.cityu.edu.hk/hktech300/start-ups/a...   \n",
       "\n",
       "             Company Website                   Email  \n",
       "0              No Info Found           No Info Found  \n",
       "1  https://brideunionhk.com/  martin@bride-union.com  \n",
       "2              No Info Found           No Info Found  \n",
       "3  https://brideunionhk.com/  martin@bride-union.com  \n",
       "4              No Info Found    qzhang@6jbiotech.com  "
      ]
     },
     "execution_count": 16,
     "metadata": {},
     "output_type": "execute_result"
    }
   ],
   "source": [
    "# Create a DataFrame from the collected data\n",
    "df = pd.DataFrame(all_startup_data)\n",
    "\n",
    "# Show the DataFrame\n",
    "df.head()"
   ]
  },
  {
   "cell_type": "code",
   "execution_count": 19,
   "id": "d8a4432d",
   "metadata": {},
   "outputs": [
    {
     "data": {
      "text/plain": [
       "Company Name  CityU URL  Company Website  Email\n",
       "False         False      False            False    722\n",
       "Name: count, dtype: int64"
      ]
     },
     "execution_count": 19,
     "metadata": {},
     "output_type": "execute_result"
    }
   ],
   "source": [
    "df.isna().value_counts()"
   ]
  },
  {
   "cell_type": "code",
   "execution_count": 20,
   "id": "753fa52f",
   "metadata": {},
   "outputs": [],
   "source": [
    "# Save the DataFrame to a CSV file\n",
    "df.to_csv(\"cityu_tech300_startups.csv\", index=False)"
   ]
  }
 ],
 "metadata": {
  "kernelspec": {
   "display_name": "ascendion_env",
   "language": "python",
   "name": "python3"
  },
  "language_info": {
   "codemirror_mode": {
    "name": "ipython",
    "version": 3
   },
   "file_extension": ".py",
   "mimetype": "text/x-python",
   "name": "python",
   "nbconvert_exporter": "python",
   "pygments_lexer": "ipython3",
   "version": "3.11.11"
  }
 },
 "nbformat": 4,
 "nbformat_minor": 5
}
