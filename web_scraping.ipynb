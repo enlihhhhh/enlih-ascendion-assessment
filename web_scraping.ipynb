{
 "cells": [
  {
   "cell_type": "markdown",
   "id": "0abd05b4",
   "metadata": {},
   "source": [
    "## Import Relevant Modules"
   ]
  },
  {
   "cell_type": "code",
   "execution_count": null,
   "id": "46213ff2",
   "metadata": {},
   "outputs": [],
   "source": [
    "import pandas as pd\n",
    "import numpy as np\n",
    "import os\n",
    "import json\n",
    "import re\n",
    "import time\n",
    "import requests\n",
    "from bs4 import BeautifulSoup\n",
    "from tqdm.notebook import tqdm\n",
    "from selenium import webdriver\n",
    "from selenium.webdriver.common.keys import Keys\n",
    "from selenium.webdriver.chrome.options import Options"
   ]
  },
  {
   "cell_type": "markdown",
   "id": "7b86a0b5",
   "metadata": {},
   "source": [
    "## Frameworks \n",
    "\n",
    "For web-scraping, we will mainly focus on using ```selenium``` and ```beautifulsoup4``` to scrape the start up information from the [website](https://www.cityu.edu.hk/hktech300/start-ups/all-start-ups)\n",
    "\n",
    "Then, we will save the information into a single ```Comma-seperated values (CSV) file```"
   ]
  },
  {
   "cell_type": "markdown",
   "id": "3e36d080",
   "metadata": {},
   "source": [
    "## Setting up Selenium Chrome Webdriver"
   ]
  },
  {
   "cell_type": "code",
   "execution_count": 2,
   "id": "38254372",
   "metadata": {},
   "outputs": [],
   "source": [
    "# Setting up the Chrome WebDriver\n",
    "# options = Options()\n",
    "# options.add_argument(\"--headless\")\n",
    "driver = webdriver.Chrome()\n",
    "\n",
    "# Setting up the URL and headers\n",
    "BASE_PAGE_URL = \"https://www.cityu.edu.hk/hktech300/start-ups/all-start-ups?page=\"\n",
    "MAX_PAGES = 40\n",
    "BASE_DOMAIN = \"https://www.cityu.edu.hk\"\n",
    "\n",
    "driver.quit()"
   ]
  },
  {
   "cell_type": "markdown",
   "id": "aef5f827",
   "metadata": {},
   "source": [
    "## Scraping data for a Single Page\n",
    "\n",
    "The following section contains the initial scraping of each individual start up page before using the logic to scrape the full start up pages"
   ]
  },
  {
   "cell_type": "code",
   "execution_count": null,
   "id": "037c3c49",
   "metadata": {},
   "outputs": [],
   "source": [
    "driver = webdriver.Chrome()\n",
    "driver.get(BASE_PAGE_URL + \"0\")\n",
    "\n",
    "# Wait for the page to load\n",
    "time.sleep(5)\n",
    "\n",
    "# Get the page source\n",
    "page_source = driver.page_source\n",
    "soup = BeautifulSoup(page_source, 'html.parser')\n",
    "\n",
    "# Find the total number of pages\n",
    "content_container = soup.find('div', class_='item-list')\n",
    "\n",
    "driver.quit()"
   ]
  },
  {
   "cell_type": "code",
   "execution_count": 24,
   "id": "5ea3ec25",
   "metadata": {},
   "outputs": [
    {
     "data": {
      "application/vnd.jupyter.widget-view+json": {
       "model_id": "b3737c6107044feead0a8d5ec665673e",
       "version_major": 2,
       "version_minor": 0
      },
      "text/plain": [
       "  0%|          | 0/18 [00:00<?, ?it/s]"
      ]
     },
     "metadata": {},
     "output_type": "display_data"
    },
    {
     "name": "stdout",
     "output_type": "stream",
     "text": [
      "Name: 3D printing low-carbon ecological concrete, Profile URL: https://www.cityu.edu.hk/hktech300/start-ups/seed-fund-teams/3d-printing-low-carbon-ecological-concrete\n",
      "Name: 5th Immersiv, Profile URL: https://www.cityu.edu.hk/hktech300/start-ups/seed-fund-teams/5th-immersiv\n",
      "Name: 6J Biotechnology (Hong Kong) Limited, Profile URL: https://www.cityu.edu.hk/hktech300/start-ups/angel-fund-teams/6j-biotechnology\n",
      "Name: A-TCMS (Autonomous Tire Condition Monitoring System), Profile URL: https://www.cityu.edu.hk/hktech300/start-ups/seed-fund-teams/a-tcms\n",
      "Name: A.I. Ambassador (Virtual Receptionist) kiosk solution, Profile URL: https://www.cityu.edu.hk/hktech300/start-ups/seed-fund-teams/ai-ambassador\n",
      "Name: A3-ml Ltd, Profile URL: https://www.cityu.edu.hk/hktech300/start-ups/seed-fund-teams/a3-ml\n",
      "Name: ABCDYi, Profile URL: https://www.cityu.edu.hk/hktech300/start-ups/seed-fund-teams/abcdyi\n",
      "Name: Accessible Vision, Profile URL: https://www.cityu.edu.hk/hktech300/start-ups/seed-fund-teams/accessible-vision\n",
      "Name: Accucision, Profile URL: https://www.cityu.edu.hk/hktech300/start-ups/seed-fund-teams/accucision\n",
      "Name: Aeroponics King, Profile URL: https://www.cityu.edu.hk/hktech300/start-ups/seed-fund-teams/aeroponics-king\n",
      "Name: AESIR Institute Limited, Profile URL: https://www.cityu.edu.hk/hktech300/start-ups/angel-fund-teams/aesir\n",
      "Name: Aestrio, Profile URL: https://www.cityu.edu.hk/hktech300/start-ups/seed-fund-teams/aestrio\n",
      "Name: AFJ – TutorGPT, Profile URL: https://www.cityu.edu.hk/hktech300/start-ups/seed-fund-teams/afj-tutorgpt\n",
      "Name: Aflame E-SOC, Profile URL: https://www.cityu.edu.hk/hktech300/start-ups/seed-fund-teams/aflame-e-soc\n",
      "Name: AI Doodle, Profile URL: https://www.cityu.edu.hk/hktech300/start-ups/seed-fund-teams/ai-doodle\n",
      "Name: AI Guided Limited, Profile URL: https://www.cityu.edu.hk/hktech300/start-ups/seed-fund-teams/ai-guided-limited\n",
      "Name: AI Mnemonic, Profile URL: https://www.cityu.edu.hk/hktech300/start-ups/seed-fund-teams/ai-mnemonic\n",
      "Name: AI Motion Logistics Limited, Profile URL: https://www.cityu.edu.hk/hktech300/start-ups/angel-fund-teams/ai-motion-logistics-limited\n"
     ]
    }
   ],
   "source": [
    "start_ups_list = []\n",
    "\n",
    "# Select all <li> elements under the target <ul>\n",
    "li_elements = soup.select('ul.list-unstyled.row > li')\n",
    "\n",
    "# Loop through each startup block\n",
    "for li in tqdm(li_elements, leave=False):\n",
    "    card = li.select_one(\"div.card.fund.team\")\n",
    "    if not card:\n",
    "        continue\n",
    "\n",
    "    # Find startup name and profile link\n",
    "    a_tags = card.find_all(\"a\")\n",
    "    name, profile_url = None, None\n",
    "    for a in a_tags:\n",
    "        if a.text.strip():\n",
    "            name = a.text.strip()\n",
    "            relative_url = a.get(\"href\")\n",
    "            profile_url = BASE_DOMAIN + relative_url\n",
    "            print(f\"Name: {name}, Profile URL: {profile_url}\")\n",
    "            start_ups_list.append({\n",
    "                \"name\": name,\n",
    "                \"profile_url\": profile_url\n",
    "            })\n",
    "            break  # Found the name-containing <a>\n",
    "\n",
    "    if not name or not profile_url:\n",
    "        continue  # Skip incomplete entries"
   ]
  },
  {
   "cell_type": "code",
   "execution_count": 24,
   "id": "18239af0",
   "metadata": {},
   "outputs": [],
   "source": [
    "# Example Use Case\n",
    "driver = webdriver.Chrome()\n",
    "driver.get('https://www.cityu.edu.hk/hktech300/start-ups/angel-fund-teams/starkid-limited')\n",
    "time.sleep(2)\n",
    "profile_soup = BeautifulSoup(driver.page_source, \"html.parser\")\n",
    "driver.quit()"
   ]
  },
  {
   "cell_type": "code",
   "execution_count": null,
   "id": "688a229f",
   "metadata": {},
   "outputs": [
    {
     "name": "stdout",
     "output_type": "stream",
     "text": [
      "Website: https://www.starkid.com.hk/\n",
      "Email: admin@starkid.com.hk\n"
     ]
    }
   ],
   "source": [
    "def extract_profile_details(profile_soup):\n",
    "    \"\"\"\n",
    "    Extracts the company website and email address from a startup's profile page.\n",
    "\n",
    "    Args:\n",
    "        profile_soup (BeautifulSoup): The BeautifulSoup-parsed HTML content of a startup's profile page.\n",
    "\n",
    "    Returns:\n",
    "        tuple: A tuple containing two strings:\n",
    "            - website (str): The company's external website URL (if available).\n",
    "            - email (str): The team member's email address (if available).\n",
    "    \"\"\"\n",
    "\n",
    "    website, email = None, None\n",
    "\n",
    "    # Dynamically look for any plugin-id ending with :field_client or :field_company_website (Company Website)\n",
    "    website_div = profile_soup.find(\n",
    "        'div',\n",
    "        attrs={\"data-block-plugin-id\": lambda v: v and (\n",
    "            v.endswith(\":field_client\") or v.endswith(\":field_company_website\")\n",
    "        )}\n",
    "    )\n",
    "    if website_div:\n",
    "        a_tag = website_div.find('a', href=True)\n",
    "        if a_tag:\n",
    "            website = a_tag['href'].strip()\n",
    "\n",
    "    # Dynamically look for any plugin-id ending with :field_team_members_email (Company Email)\n",
    "    email_div = profile_soup.find(\n",
    "        'div',\n",
    "        attrs={\"data-block-plugin-id\": lambda v: v and v.endswith(\":field_team_members_email\")}\n",
    "    )\n",
    "    if email_div:\n",
    "        a_tag = email_div.find('a', href=True)\n",
    "        if a_tag:\n",
    "            email = a_tag.text.strip()\n",
    "\n",
    "    # Fallbacks\n",
    "    website = website or \"No Info Found\"\n",
    "    email = email or \"No Info Found\"\n",
    "\n",
    "    return website, email\n",
    "\n",
    "\n",
    "\n",
    "# Extracting details\n",
    "website, email = extract_profile_details(profile_soup)\n",
    "print(f\"Website: {website}\")\n",
    "print(f\"Email: {email}\")"
   ]
  },
  {
   "cell_type": "code",
   "execution_count": 37,
   "id": "f57d0d8d",
   "metadata": {},
   "outputs": [
    {
     "data": {
      "application/vnd.jupyter.widget-view+json": {
       "model_id": "c412a88f2770493699e3d6c6b2390c28",
       "version_major": 2,
       "version_minor": 0
      },
      "text/plain": [
       "Scraping profiles:   0%|          | 0/18 [00:00<?, ?it/s]"
      ]
     },
     "metadata": {},
     "output_type": "display_data"
    }
   ],
   "source": [
    "all_data = []\n",
    "\n",
    "# Setting up the Chrome WebDriver \n",
    "driver = webdriver.Chrome()\n",
    "\n",
    "# Entire code to extract all profiles in one page\n",
    "li_elements = soup.select(\"ul.list-unstyled.row > li\")\n",
    "for li in tqdm(li_elements, leave=False, desc=f\"Scraping profiles\"):\n",
    "    card = li.select_one(\"div.card.fund.team\")\n",
    "    if not card:\n",
    "        continue\n",
    "\n",
    "    # Find the correct <a> with company name and link\n",
    "    a_tags = card.find_all(\"a\")\n",
    "    name, profile_url = None, None\n",
    "    for a in a_tags:\n",
    "        if a.text.strip():\n",
    "            name = a.text.strip()\n",
    "            profile_url = BASE_DOMAIN + a.get(\"href\")\n",
    "            break\n",
    "\n",
    "    if not name or not profile_url:\n",
    "        continue\n",
    "\n",
    "    # Load the company profile page\n",
    "    driver.get(profile_url)\n",
    "    time.sleep(2)\n",
    "    profile_soup = BeautifulSoup(driver.page_source, \"html.parser\")\n",
    "\n",
    "    # Extract website and email from profile\n",
    "    website, email = extract_profile_details(profile_soup)\n",
    "\n",
    "    all_data.append({\n",
    "        \"Company Name\": name,\n",
    "        \"CityU URL\": profile_url,\n",
    "        \"Company Website\": website,\n",
    "        \"Email Address\": email\n",
    "    })\n",
    "\n",
    "# Quit the driver\n",
    "driver.quit()"
   ]
  },
  {
   "cell_type": "code",
   "execution_count": 38,
   "id": "0c5a1496",
   "metadata": {},
   "outputs": [
    {
     "data": {
      "text/html": [
       "<div>\n",
       "<style scoped>\n",
       "    .dataframe tbody tr th:only-of-type {\n",
       "        vertical-align: middle;\n",
       "    }\n",
       "\n",
       "    .dataframe tbody tr th {\n",
       "        vertical-align: top;\n",
       "    }\n",
       "\n",
       "    .dataframe thead th {\n",
       "        text-align: right;\n",
       "    }\n",
       "</style>\n",
       "<table border=\"1\" class=\"dataframe\">\n",
       "  <thead>\n",
       "    <tr style=\"text-align: right;\">\n",
       "      <th></th>\n",
       "      <th>Company Name</th>\n",
       "      <th>CityU URL</th>\n",
       "      <th>Company Website</th>\n",
       "      <th>Email Address</th>\n",
       "    </tr>\n",
       "  </thead>\n",
       "  <tbody>\n",
       "    <tr>\n",
       "      <th>0</th>\n",
       "      <td>Vision AI Engineering Limited</td>\n",
       "      <td>https://www.cityu.edu.hk/hktech300/start-ups/s...</td>\n",
       "      <td>No Info Found</td>\n",
       "      <td>info@visionaiengineering.com</td>\n",
       "    </tr>\n",
       "    <tr>\n",
       "      <th>1</th>\n",
       "      <td>Vision Carbon Limited</td>\n",
       "      <td>https://www.cityu.edu.hk/hktech300/start-ups/a...</td>\n",
       "      <td>https://www.visioncarbon.net/</td>\n",
       "      <td>kyrie.luo@visioncarbon.net</td>\n",
       "    </tr>\n",
       "    <tr>\n",
       "      <th>2</th>\n",
       "      <td>Vismed Training Limited</td>\n",
       "      <td>https://www.cityu.edu.hk/hktech300/start-ups/v...</td>\n",
       "      <td>https://www.vismed.tech/</td>\n",
       "      <td>No Info Found</td>\n",
       "    </tr>\n",
       "    <tr>\n",
       "      <th>3</th>\n",
       "      <td>Vismed Training Limited</td>\n",
       "      <td>https://www.cityu.edu.hk/hktech300/start-ups/s...</td>\n",
       "      <td>No Info Found</td>\n",
       "      <td>vismed.hk@gmail.com</td>\n",
       "    </tr>\n",
       "    <tr>\n",
       "      <th>4</th>\n",
       "      <td>Vista Innotech Ltd</td>\n",
       "      <td>https://www.cityu.edu.hk/hktech300/start-ups/v...</td>\n",
       "      <td>https://www.vit.com.hk/</td>\n",
       "      <td>info@vit.com.hk</td>\n",
       "    </tr>\n",
       "    <tr>\n",
       "      <th>5</th>\n",
       "      <td>Vivablee</td>\n",
       "      <td>https://www.cityu.edu.hk/hktech300/start-ups/s...</td>\n",
       "      <td>https://www.vivablee.com/</td>\n",
       "      <td>info@vivablee.com</td>\n",
       "    </tr>\n",
       "    <tr>\n",
       "      <th>6</th>\n",
       "      <td>Volar Air Mobility</td>\n",
       "      <td>https://www.cityu.edu.hk/hktech300/start-ups/s...</td>\n",
       "      <td>No Info Found</td>\n",
       "      <td>No Info Found</td>\n",
       "    </tr>\n",
       "    <tr>\n",
       "      <th>7</th>\n",
       "      <td>VR Community Tour</td>\n",
       "      <td>https://www.cityu.edu.hk/hktech300/start-ups/s...</td>\n",
       "      <td>https://kaifongtour.com/</td>\n",
       "      <td>info@kaifongtour.com</td>\n",
       "    </tr>\n",
       "    <tr>\n",
       "      <th>8</th>\n",
       "      <td>Vuzec Limited</td>\n",
       "      <td>https://www.cityu.edu.hk/hktech300/start-ups/a...</td>\n",
       "      <td>https://vuzec.com/</td>\n",
       "      <td>contact@vuzec.com</td>\n",
       "    </tr>\n",
       "    <tr>\n",
       "      <th>9</th>\n",
       "      <td>Wanmeng Tech Limited</td>\n",
       "      <td>https://www.cityu.edu.hk/hktech300/start-ups/w...</td>\n",
       "      <td>No Info Found</td>\n",
       "      <td>No Info Found</td>\n",
       "    </tr>\n",
       "    <tr>\n",
       "      <th>10</th>\n",
       "      <td>Waste2Build</td>\n",
       "      <td>https://www.cityu.edu.hk/hktech300/start-ups/s...</td>\n",
       "      <td>https://www.bsfi.ltd/</td>\n",
       "      <td>info@bsfi.ltd</td>\n",
       "    </tr>\n",
       "    <tr>\n",
       "      <th>11</th>\n",
       "      <td>Wed.Vision</td>\n",
       "      <td>https://www.cityu.edu.hk/hktech300/start-ups/s...</td>\n",
       "      <td>No Info Found</td>\n",
       "      <td>wed.vision@yahoo.com</td>\n",
       "    </tr>\n",
       "    <tr>\n",
       "      <th>12</th>\n",
       "      <td>WeExpand – Virtual Sales Platform</td>\n",
       "      <td>https://www.cityu.edu.hk/hktech300/start-ups/s...</td>\n",
       "      <td>https://www.weexpand.co/</td>\n",
       "      <td>Raymond.mak@weexpand.co</td>\n",
       "    </tr>\n",
       "    <tr>\n",
       "      <th>13</th>\n",
       "      <td>WeKnow Tech</td>\n",
       "      <td>https://www.cityu.edu.hk/hktech300/start-ups/s...</td>\n",
       "      <td>https://www.samcityu.com/weknowtech</td>\n",
       "      <td>hed115599@gmail.com</td>\n",
       "    </tr>\n",
       "    <tr>\n",
       "      <th>14</th>\n",
       "      <td>Wellplayed</td>\n",
       "      <td>https://www.cityu.edu.hk/hktech300/start-ups/s...</td>\n",
       "      <td>No Info Found</td>\n",
       "      <td>teamwellplayed@protonmail.com</td>\n",
       "    </tr>\n",
       "    <tr>\n",
       "      <th>15</th>\n",
       "      <td>WeShip</td>\n",
       "      <td>https://www.cityu.edu.hk/hktech300/start-ups/s...</td>\n",
       "      <td>No Info Found</td>\n",
       "      <td>info@weship.ltd</td>\n",
       "    </tr>\n",
       "    <tr>\n",
       "      <th>16</th>\n",
       "      <td>Wheel Real Experience</td>\n",
       "      <td>https://www.cityu.edu.hk/hktech300/start-ups/s...</td>\n",
       "      <td>No Info Found</td>\n",
       "      <td>wheelrealexperience@gmail.com</td>\n",
       "    </tr>\n",
       "    <tr>\n",
       "      <th>17</th>\n",
       "      <td>Wine Secret AI Team – AI Sommelier</td>\n",
       "      <td>https://www.cityu.edu.hk/hktech300/start-ups/s...</td>\n",
       "      <td>No Info Found</td>\n",
       "      <td>No Info Found</td>\n",
       "    </tr>\n",
       "  </tbody>\n",
       "</table>\n",
       "</div>"
      ],
      "text/plain": [
       "                          Company Name  \\\n",
       "0        Vision AI Engineering Limited   \n",
       "1                Vision Carbon Limited   \n",
       "2              Vismed Training Limited   \n",
       "3              Vismed Training Limited   \n",
       "4                   Vista Innotech Ltd   \n",
       "5                             Vivablee   \n",
       "6                   Volar Air Mobility   \n",
       "7                    VR Community Tour   \n",
       "8                        Vuzec Limited   \n",
       "9                 Wanmeng Tech Limited   \n",
       "10                         Waste2Build   \n",
       "11                          Wed.Vision   \n",
       "12   WeExpand – Virtual Sales Platform   \n",
       "13                         WeKnow Tech   \n",
       "14                          Wellplayed   \n",
       "15                              WeShip   \n",
       "16               Wheel Real Experience   \n",
       "17  Wine Secret AI Team – AI Sommelier   \n",
       "\n",
       "                                            CityU URL  \\\n",
       "0   https://www.cityu.edu.hk/hktech300/start-ups/s...   \n",
       "1   https://www.cityu.edu.hk/hktech300/start-ups/a...   \n",
       "2   https://www.cityu.edu.hk/hktech300/start-ups/v...   \n",
       "3   https://www.cityu.edu.hk/hktech300/start-ups/s...   \n",
       "4   https://www.cityu.edu.hk/hktech300/start-ups/v...   \n",
       "5   https://www.cityu.edu.hk/hktech300/start-ups/s...   \n",
       "6   https://www.cityu.edu.hk/hktech300/start-ups/s...   \n",
       "7   https://www.cityu.edu.hk/hktech300/start-ups/s...   \n",
       "8   https://www.cityu.edu.hk/hktech300/start-ups/a...   \n",
       "9   https://www.cityu.edu.hk/hktech300/start-ups/w...   \n",
       "10  https://www.cityu.edu.hk/hktech300/start-ups/s...   \n",
       "11  https://www.cityu.edu.hk/hktech300/start-ups/s...   \n",
       "12  https://www.cityu.edu.hk/hktech300/start-ups/s...   \n",
       "13  https://www.cityu.edu.hk/hktech300/start-ups/s...   \n",
       "14  https://www.cityu.edu.hk/hktech300/start-ups/s...   \n",
       "15  https://www.cityu.edu.hk/hktech300/start-ups/s...   \n",
       "16  https://www.cityu.edu.hk/hktech300/start-ups/s...   \n",
       "17  https://www.cityu.edu.hk/hktech300/start-ups/s...   \n",
       "\n",
       "                        Company Website                  Email Address  \n",
       "0                         No Info Found   info@visionaiengineering.com  \n",
       "1         https://www.visioncarbon.net/     kyrie.luo@visioncarbon.net  \n",
       "2              https://www.vismed.tech/                  No Info Found  \n",
       "3                         No Info Found            vismed.hk@gmail.com  \n",
       "4               https://www.vit.com.hk/                info@vit.com.hk  \n",
       "5             https://www.vivablee.com/              info@vivablee.com  \n",
       "6                         No Info Found                  No Info Found  \n",
       "7              https://kaifongtour.com/           info@kaifongtour.com  \n",
       "8                    https://vuzec.com/              contact@vuzec.com  \n",
       "9                         No Info Found                  No Info Found  \n",
       "10                https://www.bsfi.ltd/                  info@bsfi.ltd  \n",
       "11                        No Info Found           wed.vision@yahoo.com  \n",
       "12             https://www.weexpand.co/        Raymond.mak@weexpand.co  \n",
       "13  https://www.samcityu.com/weknowtech            hed115599@gmail.com  \n",
       "14                        No Info Found  teamwellplayed@protonmail.com  \n",
       "15                        No Info Found                info@weship.ltd  \n",
       "16                        No Info Found  wheelrealexperience@gmail.com  \n",
       "17                        No Info Found                  No Info Found  "
      ]
     },
     "execution_count": 38,
     "metadata": {},
     "output_type": "execute_result"
    }
   ],
   "source": [
    "df = pd.DataFrame(all_data)\n",
    "df"
   ]
  },
  {
   "cell_type": "markdown",
   "id": "67a4b12d",
   "metadata": {},
   "source": [
    "## Scraping all information"
   ]
  },
  {
   "cell_type": "markdown",
   "id": "04035180",
   "metadata": {},
   "source": [
    "Using the logic dervied from extracting one single page, we will now attempt to scrape all the start up information sequentially"
   ]
  },
  {
   "cell_type": "markdown",
   "id": "34fd42ea",
   "metadata": {},
   "source": [
    "### Helper Function to extract start up informatioon"
   ]
  },
  {
   "cell_type": "code",
   "execution_count": null,
   "id": "7622e064",
   "metadata": {},
   "outputs": [],
   "source": [
    "def extract_profile_details(profile_soup):\n",
    "    \"\"\"\n",
    "    Extracts the company website and email address from a startup's profile page.\n",
    "\n",
    "    Args:\n",
    "        profile_soup (BeautifulSoup): The BeautifulSoup-parsed HTML content of a startup's profile page.\n",
    "\n",
    "    Returns:\n",
    "        tuple: A tuple containing two strings:\n",
    "            - website (str): The company's external website URL (if available).\n",
    "            - email (str): The team member's email address (if available).\n",
    "    \"\"\"\n",
    "\n",
    "    website, email = None, None\n",
    "\n",
    "    # Dynamically look for any plugin-id ending with :field_client or :field_company_website (Company Website)\n",
    "    website_div = profile_soup.find(\n",
    "        'div',\n",
    "        attrs={\"data-block-plugin-id\": lambda value: value and (\n",
    "            value.endswith(\":field_client\") or value.endswith(\":field_company_website\")\n",
    "        )}\n",
    "    )\n",
    "    if website_div:\n",
    "        a_tag = website_div.find('a', href=True)\n",
    "        if a_tag:\n",
    "            website = a_tag['href'].strip()\n",
    "\n",
    "    # Dynamically look for any plugin-id ending with :field_team_members_email (Company Email)\n",
    "    email_div = profile_soup.find(\n",
    "        'div',\n",
    "        attrs={\"data-block-plugin-id\": lambda value: value and value.endswith(\":field_team_members_email\")}\n",
    "    )\n",
    "    if email_div:\n",
    "        a_tag = email_div.find('a', href=True)\n",
    "        if a_tag:\n",
    "            email = a_tag.text.strip()\n",
    "\n",
    "    # If no email or website found, return \"No Info Found\" else return the found values\n",
    "    website = website or \"No Info Found\"\n",
    "    email = email or \"No Info Found\"\n",
    "\n",
    "    return website, email"
   ]
  },
  {
   "cell_type": "code",
   "execution_count": 27,
   "id": "8c35a815",
   "metadata": {},
   "outputs": [],
   "source": [
    "# Initialise a list to store all data\n",
    "all_startup_data = []"
   ]
  },
  {
   "cell_type": "code",
   "execution_count": 30,
   "id": "52980ff2",
   "metadata": {},
   "outputs": [
    {
     "data": {
      "application/vnd.jupyter.widget-view+json": {
       "model_id": "1b92dbfa46c94b22af421af1f2bf691c",
       "version_major": 2,
       "version_minor": 0
      },
      "text/plain": [
       "Scraping Startup Information from CityU:   0%|          | 0/40 [00:00<?, ?it/s]"
      ]
     },
     "metadata": {},
     "output_type": "display_data"
    },
    {
     "data": {
      "application/vnd.jupyter.widget-view+json": {
       "model_id": "57f8d09e206b46459424b176fa9daaa1",
       "version_major": 2,
       "version_minor": 0
      },
      "text/plain": [
       "Page 1:   0%|          | 0/18 [00:00<?, ?it/s]"
      ]
     },
     "metadata": {},
     "output_type": "display_data"
    },
    {
     "data": {
      "application/vnd.jupyter.widget-view+json": {
       "model_id": "509dc883b5cc4f398f2a1f61c3aa8b7f",
       "version_major": 2,
       "version_minor": 0
      },
      "text/plain": [
       "Page 2:   0%|          | 0/18 [00:00<?, ?it/s]"
      ]
     },
     "metadata": {},
     "output_type": "display_data"
    },
    {
     "data": {
      "application/vnd.jupyter.widget-view+json": {
       "model_id": "6a80329802244c308d5f7a0a80b9fd68",
       "version_major": 2,
       "version_minor": 0
      },
      "text/plain": [
       "Page 3:   0%|          | 0/18 [00:00<?, ?it/s]"
      ]
     },
     "metadata": {},
     "output_type": "display_data"
    },
    {
     "data": {
      "application/vnd.jupyter.widget-view+json": {
       "model_id": "7cb5753e6248457c88ce5fe35bece873",
       "version_major": 2,
       "version_minor": 0
      },
      "text/plain": [
       "Page 4:   0%|          | 0/18 [00:00<?, ?it/s]"
      ]
     },
     "metadata": {},
     "output_type": "display_data"
    },
    {
     "data": {
      "application/vnd.jupyter.widget-view+json": {
       "model_id": "e91146a775e34eb29940ad0e9275743e",
       "version_major": 2,
       "version_minor": 0
      },
      "text/plain": [
       "Page 5:   0%|          | 0/18 [00:00<?, ?it/s]"
      ]
     },
     "metadata": {},
     "output_type": "display_data"
    },
    {
     "data": {
      "application/vnd.jupyter.widget-view+json": {
       "model_id": "155ab483ce474a79993a0ff4fae46fa7",
       "version_major": 2,
       "version_minor": 0
      },
      "text/plain": [
       "Page 6:   0%|          | 0/18 [00:00<?, ?it/s]"
      ]
     },
     "metadata": {},
     "output_type": "display_data"
    },
    {
     "data": {
      "application/vnd.jupyter.widget-view+json": {
       "model_id": "611802ea16424503b7ae84b38daac407",
       "version_major": 2,
       "version_minor": 0
      },
      "text/plain": [
       "Page 7:   0%|          | 0/18 [00:00<?, ?it/s]"
      ]
     },
     "metadata": {},
     "output_type": "display_data"
    },
    {
     "data": {
      "application/vnd.jupyter.widget-view+json": {
       "model_id": "66baccba7e754ef1a68427c28a9d0796",
       "version_major": 2,
       "version_minor": 0
      },
      "text/plain": [
       "Page 8:   0%|          | 0/18 [00:00<?, ?it/s]"
      ]
     },
     "metadata": {},
     "output_type": "display_data"
    },
    {
     "data": {
      "application/vnd.jupyter.widget-view+json": {
       "model_id": "db1aca5f54da4c8f8d8cd43548b6e4c8",
       "version_major": 2,
       "version_minor": 0
      },
      "text/plain": [
       "Page 9:   0%|          | 0/18 [00:00<?, ?it/s]"
      ]
     },
     "metadata": {},
     "output_type": "display_data"
    },
    {
     "data": {
      "application/vnd.jupyter.widget-view+json": {
       "model_id": "fc204b6e3c524b4fb1a3b756abe5a908",
       "version_major": 2,
       "version_minor": 0
      },
      "text/plain": [
       "Page 10:   0%|          | 0/18 [00:00<?, ?it/s]"
      ]
     },
     "metadata": {},
     "output_type": "display_data"
    },
    {
     "data": {
      "application/vnd.jupyter.widget-view+json": {
       "model_id": "78cb909505224f0198ebcf61af3f7367",
       "version_major": 2,
       "version_minor": 0
      },
      "text/plain": [
       "Page 11:   0%|          | 0/18 [00:00<?, ?it/s]"
      ]
     },
     "metadata": {},
     "output_type": "display_data"
    },
    {
     "data": {
      "application/vnd.jupyter.widget-view+json": {
       "model_id": "7d5a9234760c494783309454b28072a8",
       "version_major": 2,
       "version_minor": 0
      },
      "text/plain": [
       "Page 12:   0%|          | 0/18 [00:00<?, ?it/s]"
      ]
     },
     "metadata": {},
     "output_type": "display_data"
    },
    {
     "data": {
      "application/vnd.jupyter.widget-view+json": {
       "model_id": "c89fa8e2c32340a49f13fb70e48c06bb",
       "version_major": 2,
       "version_minor": 0
      },
      "text/plain": [
       "Page 13:   0%|          | 0/18 [00:00<?, ?it/s]"
      ]
     },
     "metadata": {},
     "output_type": "display_data"
    },
    {
     "data": {
      "application/vnd.jupyter.widget-view+json": {
       "model_id": "70f2a728fb214ce59aa1e2ff5e1f44e5",
       "version_major": 2,
       "version_minor": 0
      },
      "text/plain": [
       "Page 14:   0%|          | 0/18 [00:00<?, ?it/s]"
      ]
     },
     "metadata": {},
     "output_type": "display_data"
    },
    {
     "data": {
      "application/vnd.jupyter.widget-view+json": {
       "model_id": "f3cc17db4c77453c8e5012df429fec07",
       "version_major": 2,
       "version_minor": 0
      },
      "text/plain": [
       "Page 15:   0%|          | 0/18 [00:00<?, ?it/s]"
      ]
     },
     "metadata": {},
     "output_type": "display_data"
    },
    {
     "data": {
      "application/vnd.jupyter.widget-view+json": {
       "model_id": "eead2a096df6465ba6720e4d32b0d7d8",
       "version_major": 2,
       "version_minor": 0
      },
      "text/plain": [
       "Page 16:   0%|          | 0/18 [00:00<?, ?it/s]"
      ]
     },
     "metadata": {},
     "output_type": "display_data"
    },
    {
     "data": {
      "application/vnd.jupyter.widget-view+json": {
       "model_id": "cd3bfa609367497394b8bce307aa36d9",
       "version_major": 2,
       "version_minor": 0
      },
      "text/plain": [
       "Page 17:   0%|          | 0/18 [00:00<?, ?it/s]"
      ]
     },
     "metadata": {},
     "output_type": "display_data"
    },
    {
     "data": {
      "application/vnd.jupyter.widget-view+json": {
       "model_id": "ce76eac009b3443a93150a5614efa196",
       "version_major": 2,
       "version_minor": 0
      },
      "text/plain": [
       "Page 18:   0%|          | 0/18 [00:00<?, ?it/s]"
      ]
     },
     "metadata": {},
     "output_type": "display_data"
    },
    {
     "data": {
      "application/vnd.jupyter.widget-view+json": {
       "model_id": "218441647f674ed7b7417af4c256b9fc",
       "version_major": 2,
       "version_minor": 0
      },
      "text/plain": [
       "Page 19:   0%|          | 0/18 [00:00<?, ?it/s]"
      ]
     },
     "metadata": {},
     "output_type": "display_data"
    },
    {
     "data": {
      "application/vnd.jupyter.widget-view+json": {
       "model_id": "2eedc2f367314865b835e394e2187d6e",
       "version_major": 2,
       "version_minor": 0
      },
      "text/plain": [
       "Page 20:   0%|          | 0/18 [00:00<?, ?it/s]"
      ]
     },
     "metadata": {},
     "output_type": "display_data"
    },
    {
     "data": {
      "application/vnd.jupyter.widget-view+json": {
       "model_id": "9c2675f233ed4ab3a43ef992ee9920b2",
       "version_major": 2,
       "version_minor": 0
      },
      "text/plain": [
       "Page 21:   0%|          | 0/18 [00:00<?, ?it/s]"
      ]
     },
     "metadata": {},
     "output_type": "display_data"
    },
    {
     "data": {
      "application/vnd.jupyter.widget-view+json": {
       "model_id": "8210ef5ed5104468b6c0b1ecc898f7bc",
       "version_major": 2,
       "version_minor": 0
      },
      "text/plain": [
       "Page 22:   0%|          | 0/18 [00:00<?, ?it/s]"
      ]
     },
     "metadata": {},
     "output_type": "display_data"
    },
    {
     "data": {
      "application/vnd.jupyter.widget-view+json": {
       "model_id": "4ed3f6a154d84f25bf86f6c409dea389",
       "version_major": 2,
       "version_minor": 0
      },
      "text/plain": [
       "Page 23:   0%|          | 0/18 [00:00<?, ?it/s]"
      ]
     },
     "metadata": {},
     "output_type": "display_data"
    },
    {
     "data": {
      "application/vnd.jupyter.widget-view+json": {
       "model_id": "e6d096d4db59465da4788d35e5d22640",
       "version_major": 2,
       "version_minor": 0
      },
      "text/plain": [
       "Page 24:   0%|          | 0/18 [00:00<?, ?it/s]"
      ]
     },
     "metadata": {},
     "output_type": "display_data"
    },
    {
     "data": {
      "application/vnd.jupyter.widget-view+json": {
       "model_id": "4175d8b43bec4ae4a9258fb027e51558",
       "version_major": 2,
       "version_minor": 0
      },
      "text/plain": [
       "Page 25:   0%|          | 0/18 [00:00<?, ?it/s]"
      ]
     },
     "metadata": {},
     "output_type": "display_data"
    },
    {
     "data": {
      "application/vnd.jupyter.widget-view+json": {
       "model_id": "6e716714687b427f8add6d4369f17bad",
       "version_major": 2,
       "version_minor": 0
      },
      "text/plain": [
       "Page 26:   0%|          | 0/18 [00:00<?, ?it/s]"
      ]
     },
     "metadata": {},
     "output_type": "display_data"
    },
    {
     "data": {
      "application/vnd.jupyter.widget-view+json": {
       "model_id": "8d1ab299ea0e4859a0589e7b837cc899",
       "version_major": 2,
       "version_minor": 0
      },
      "text/plain": [
       "Page 27:   0%|          | 0/18 [00:00<?, ?it/s]"
      ]
     },
     "metadata": {},
     "output_type": "display_data"
    },
    {
     "data": {
      "application/vnd.jupyter.widget-view+json": {
       "model_id": "83ceaf60b7b24b54a6d3e54b713af6ba",
       "version_major": 2,
       "version_minor": 0
      },
      "text/plain": [
       "Page 28:   0%|          | 0/18 [00:00<?, ?it/s]"
      ]
     },
     "metadata": {},
     "output_type": "display_data"
    },
    {
     "data": {
      "application/vnd.jupyter.widget-view+json": {
       "model_id": "3678c426dd784816920c602959894c96",
       "version_major": 2,
       "version_minor": 0
      },
      "text/plain": [
       "Page 29:   0%|          | 0/18 [00:00<?, ?it/s]"
      ]
     },
     "metadata": {},
     "output_type": "display_data"
    },
    {
     "data": {
      "application/vnd.jupyter.widget-view+json": {
       "model_id": "bca869fdc3b64e43931f50879600a30c",
       "version_major": 2,
       "version_minor": 0
      },
      "text/plain": [
       "Page 30:   0%|          | 0/18 [00:00<?, ?it/s]"
      ]
     },
     "metadata": {},
     "output_type": "display_data"
    },
    {
     "data": {
      "application/vnd.jupyter.widget-view+json": {
       "model_id": "ec452a2d559e49cdb57cea9e732eec7f",
       "version_major": 2,
       "version_minor": 0
      },
      "text/plain": [
       "Page 31:   0%|          | 0/18 [00:00<?, ?it/s]"
      ]
     },
     "metadata": {},
     "output_type": "display_data"
    },
    {
     "data": {
      "application/vnd.jupyter.widget-view+json": {
       "model_id": "c8306f8bfe254fe7b13d00cd2430e09c",
       "version_major": 2,
       "version_minor": 0
      },
      "text/plain": [
       "Page 32:   0%|          | 0/18 [00:00<?, ?it/s]"
      ]
     },
     "metadata": {},
     "output_type": "display_data"
    },
    {
     "data": {
      "application/vnd.jupyter.widget-view+json": {
       "model_id": "a707808291f446969d8801561a3ecc77",
       "version_major": 2,
       "version_minor": 0
      },
      "text/plain": [
       "Page 33:   0%|          | 0/18 [00:00<?, ?it/s]"
      ]
     },
     "metadata": {},
     "output_type": "display_data"
    },
    {
     "data": {
      "application/vnd.jupyter.widget-view+json": {
       "model_id": "3e32815bd4df4620b32a60165157a6f8",
       "version_major": 2,
       "version_minor": 0
      },
      "text/plain": [
       "Page 34:   0%|          | 0/18 [00:00<?, ?it/s]"
      ]
     },
     "metadata": {},
     "output_type": "display_data"
    },
    {
     "data": {
      "application/vnd.jupyter.widget-view+json": {
       "model_id": "1beb7e326f844cfea48d893bf35b6edc",
       "version_major": 2,
       "version_minor": 0
      },
      "text/plain": [
       "Page 35:   0%|          | 0/18 [00:00<?, ?it/s]"
      ]
     },
     "metadata": {},
     "output_type": "display_data"
    },
    {
     "data": {
      "application/vnd.jupyter.widget-view+json": {
       "model_id": "aa3b55adf8394378ae440b0b00d17675",
       "version_major": 2,
       "version_minor": 0
      },
      "text/plain": [
       "Page 36:   0%|          | 0/18 [00:00<?, ?it/s]"
      ]
     },
     "metadata": {},
     "output_type": "display_data"
    },
    {
     "data": {
      "application/vnd.jupyter.widget-view+json": {
       "model_id": "e9cdddde6f234b998bd8616aec059c57",
       "version_major": 2,
       "version_minor": 0
      },
      "text/plain": [
       "Page 37:   0%|          | 0/18 [00:00<?, ?it/s]"
      ]
     },
     "metadata": {},
     "output_type": "display_data"
    },
    {
     "data": {
      "application/vnd.jupyter.widget-view+json": {
       "model_id": "37b4c014237b4a3e8decdf9f69542ed0",
       "version_major": 2,
       "version_minor": 0
      },
      "text/plain": [
       "Page 38:   0%|          | 0/18 [00:00<?, ?it/s]"
      ]
     },
     "metadata": {},
     "output_type": "display_data"
    },
    {
     "data": {
      "application/vnd.jupyter.widget-view+json": {
       "model_id": "fd23a97e05494249969ce728f7f91790",
       "version_major": 2,
       "version_minor": 0
      },
      "text/plain": [
       "Page 39:   0%|          | 0/18 [00:00<?, ?it/s]"
      ]
     },
     "metadata": {},
     "output_type": "display_data"
    },
    {
     "data": {
      "application/vnd.jupyter.widget-view+json": {
       "model_id": "3598b3de56d74d0ca993045654102f00",
       "version_major": 2,
       "version_minor": 0
      },
      "text/plain": [
       "Page 40:   0%|          | 0/18 [00:00<?, ?it/s]"
      ]
     },
     "metadata": {},
     "output_type": "display_data"
    }
   ],
   "source": [
    "# Initialise the WebDriver\n",
    "driver = webdriver.Chrome() \n",
    "\n",
    "# Loop through all pages\n",
    "for page in tqdm(range(MAX_PAGES), desc=\"Scraping Startup Information from CityU\"):\n",
    "    page_url = f\"{BASE_PAGE_URL}{page}\"\n",
    "    driver.get(page_url)\n",
    "    time.sleep(2)  # Wait for the page to load\n",
    "\n",
    "    soup = BeautifulSoup(driver.page_source, 'html.parser')\n",
    "    li_elements = soup.select(\"ul.list-unstyled.row > li\")\n",
    "\n",
    "    for li in tqdm(li_elements, desc=f\"Page {page + 1}\"):\n",
    "        card = li.select_one(\"div.card.fund.team\")\n",
    "        if not card:\n",
    "            continue\n",
    "\n",
    "        # Extract company name + profile URL\n",
    "        a_tags = card.find_all(\"a\")\n",
    "        name, profile_url = None, None\n",
    "        for a in a_tags:\n",
    "            if a.text.strip():\n",
    "                name = a.text.strip()\n",
    "                profile_url = BASE_DOMAIN + a.get(\"href\")\n",
    "                break\n",
    "\n",
    "        if not name or not profile_url:\n",
    "            continue\n",
    "\n",
    "        # Load the company profile page\n",
    "        driver.get(profile_url)\n",
    "        time.sleep(2) # Wait for the page to load\n",
    "        profile_soup = BeautifulSoup(driver.page_source, \"html.parser\")\n",
    "\n",
    "        # Extract website and email from profile\n",
    "        website, email = extract_profile_details(profile_soup)\n",
    "\n",
    "        all_startup_data.append({\n",
    "            \"Company Name\": name,\n",
    "            \"CityU URL\": profile_url,\n",
    "            \"Company Website\": website,\n",
    "            \"Email\": email\n",
    "        })\n",
    "\n",
    "# Close the WebDriver\n",
    "driver.quit()"
   ]
  },
  {
   "cell_type": "markdown",
   "id": "75d0b4e8",
   "metadata": {},
   "source": [
    "## Saving the information into a CSV file"
   ]
  },
  {
   "cell_type": "code",
   "execution_count": 31,
   "id": "8b9baf11",
   "metadata": {},
   "outputs": [
    {
     "data": {
      "text/html": [
       "<div>\n",
       "<style scoped>\n",
       "    .dataframe tbody tr th:only-of-type {\n",
       "        vertical-align: middle;\n",
       "    }\n",
       "\n",
       "    .dataframe tbody tr th {\n",
       "        vertical-align: top;\n",
       "    }\n",
       "\n",
       "    .dataframe thead th {\n",
       "        text-align: right;\n",
       "    }\n",
       "</style>\n",
       "<table border=\"1\" class=\"dataframe\">\n",
       "  <thead>\n",
       "    <tr style=\"text-align: right;\">\n",
       "      <th></th>\n",
       "      <th>Company Name</th>\n",
       "      <th>CityU URL</th>\n",
       "      <th>Company Website</th>\n",
       "      <th>Email</th>\n",
       "    </tr>\n",
       "  </thead>\n",
       "  <tbody>\n",
       "    <tr>\n",
       "      <th>0</th>\n",
       "      <td>3D printing low-carbon ecological concrete</td>\n",
       "      <td>https://www.cityu.edu.hk/hktech300/start-ups/s...</td>\n",
       "      <td>No Info Found</td>\n",
       "      <td>No Info Found</td>\n",
       "    </tr>\n",
       "    <tr>\n",
       "      <th>1</th>\n",
       "      <td>5th Immersiv</td>\n",
       "      <td>https://www.cityu.edu.hk/hktech300/start-ups/s...</td>\n",
       "      <td>https://brideunionhk.com/</td>\n",
       "      <td>martin@bride-union.com</td>\n",
       "    </tr>\n",
       "    <tr>\n",
       "      <th>2</th>\n",
       "      <td>6J Biotechnology (Hong Kong) Limited</td>\n",
       "      <td>https://www.cityu.edu.hk/hktech300/start-ups/a...</td>\n",
       "      <td>http://www.6jbiotech.com/</td>\n",
       "      <td>qzhang@6jbiotech.com</td>\n",
       "    </tr>\n",
       "    <tr>\n",
       "      <th>3</th>\n",
       "      <td>A-TCMS (Autonomous Tire Condition Monitoring S...</td>\n",
       "      <td>https://www.cityu.edu.hk/hktech300/start-ups/s...</td>\n",
       "      <td>No Info Found</td>\n",
       "      <td>No Info Found</td>\n",
       "    </tr>\n",
       "    <tr>\n",
       "      <th>4</th>\n",
       "      <td>A.I. Ambassador (Virtual Receptionist) kiosk s...</td>\n",
       "      <td>https://www.cityu.edu.hk/hktech300/start-ups/s...</td>\n",
       "      <td>https://www.innocorn.com/</td>\n",
       "      <td>info@innocorn.com</td>\n",
       "    </tr>\n",
       "  </tbody>\n",
       "</table>\n",
       "</div>"
      ],
      "text/plain": [
       "                                        Company Name  \\\n",
       "0         3D printing low-carbon ecological concrete   \n",
       "1                                       5th Immersiv   \n",
       "2               6J Biotechnology (Hong Kong) Limited   \n",
       "3  A-TCMS (Autonomous Tire Condition Monitoring S...   \n",
       "4  A.I. Ambassador (Virtual Receptionist) kiosk s...   \n",
       "\n",
       "                                           CityU URL  \\\n",
       "0  https://www.cityu.edu.hk/hktech300/start-ups/s...   \n",
       "1  https://www.cityu.edu.hk/hktech300/start-ups/s...   \n",
       "2  https://www.cityu.edu.hk/hktech300/start-ups/a...   \n",
       "3  https://www.cityu.edu.hk/hktech300/start-ups/s...   \n",
       "4  https://www.cityu.edu.hk/hktech300/start-ups/s...   \n",
       "\n",
       "             Company Website                   Email  \n",
       "0              No Info Found           No Info Found  \n",
       "1  https://brideunionhk.com/  martin@bride-union.com  \n",
       "2  http://www.6jbiotech.com/    qzhang@6jbiotech.com  \n",
       "3              No Info Found           No Info Found  \n",
       "4  https://www.innocorn.com/       info@innocorn.com  "
      ]
     },
     "execution_count": 31,
     "metadata": {},
     "output_type": "execute_result"
    }
   ],
   "source": [
    "# Create a DataFrame from the collected data\n",
    "df = pd.DataFrame(all_startup_data)\n",
    "\n",
    "# Show the DataFrame\n",
    "df.head()"
   ]
  },
  {
   "cell_type": "code",
   "execution_count": 33,
   "id": "753fa52f",
   "metadata": {},
   "outputs": [],
   "source": [
    "# Save the DataFrame to a CSV file\n",
    "df.to_csv(\"cityu_tech300_startups.csv\", index=False)"
   ]
  }
 ],
 "metadata": {
  "kernelspec": {
   "display_name": "ascendion_env",
   "language": "python",
   "name": "python3"
  },
  "language_info": {
   "codemirror_mode": {
    "name": "ipython",
    "version": 3
   },
   "file_extension": ".py",
   "mimetype": "text/x-python",
   "name": "python",
   "nbconvert_exporter": "python",
   "pygments_lexer": "ipython3",
   "version": "3.11.11"
  }
 },
 "nbformat": 4,
 "nbformat_minor": 5
}
